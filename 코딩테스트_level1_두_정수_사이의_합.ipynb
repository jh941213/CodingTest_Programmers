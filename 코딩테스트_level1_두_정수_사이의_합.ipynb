{
  "nbformat": 4,
  "nbformat_minor": 0,
  "metadata": {
    "colab": {
      "provenance": []
    },
    "kernelspec": {
      "name": "python3",
      "display_name": "Python 3"
    },
    "language_info": {
      "name": "python"
    }
  },
  "cells": [
    {
      "cell_type": "markdown",
      "source": [
        "## 두 정수 사이의 합\n"
      ],
      "metadata": {
        "id": "1PH5cvQxT0wF"
      }
    },
    {
      "cell_type": "markdown",
      "source": [],
      "metadata": {
        "id": "yye-q7vNEYFr"
      }
    },
    {
      "cell_type": "code",
      "source": [
        "def solution(a, b):    \n",
        "    answer = 0\n",
        "    if a<b:\n",
        "        for i in range(a,b+1):\n",
        "            answer+=i\n",
        "        return answer\n",
        "    else:\n",
        "        for j in range(b,a+1):\n",
        "            answer+=j\n",
        "        return answer"
      ],
      "metadata": {
        "id": "71IIhsVh_61t"
      },
      "execution_count": 19,
      "outputs": []
    },
    {
      "cell_type": "code",
      "source": [
        "def solution(a, b):    \n",
        "    answer = 0\n",
        "    if a<b:\n",
        "        return sum(range(a,b+1))\n",
        "    else:\n",
        "        return sum(range(b,a+1))"
      ],
      "metadata": {
        "id": "DOjz62sqISzI"
      },
      "execution_count": null,
      "outputs": []
    },
    {
      "cell_type": "code",
      "source": [
        "solution(5,3)"
      ],
      "metadata": {
        "colab": {
          "base_uri": "https://localhost:8080/"
        },
        "id": "L_-YikfrcgJ0",
        "outputId": "df9def3d-0998-41d8-93e0-c5d802852947"
      },
      "execution_count": 21,
      "outputs": [
        {
          "output_type": "execute_result",
          "data": {
            "text/plain": [
              "12"
            ]
          },
          "metadata": {},
          "execution_count": 21
        }
      ]
    },
    {
      "cell_type": "markdown",
      "source": [
        "Solution"
      ],
      "metadata": {
        "id": "dIex9-FAogY3"
      }
    },
    {
      "cell_type": "code",
      "source": [
        "def adder(a, b):\n",
        "    return sum(range(min(a,b), max(a,b) + 1))"
      ],
      "metadata": {
        "id": "MUXPeyD_r4ci",
        "colab": {
          "base_uri": "https://localhost:8080/"
        },
        "outputId": "a0bfa054-5e3b-4627-ebfc-5ca8d686b220"
      },
      "execution_count": 14,
      "outputs": [
        {
          "output_type": "execute_result",
          "data": {
            "text/plain": [
              "range(4, 4)"
            ]
          },
          "metadata": {},
          "execution_count": 14
        }
      ]
    }
  ]
}